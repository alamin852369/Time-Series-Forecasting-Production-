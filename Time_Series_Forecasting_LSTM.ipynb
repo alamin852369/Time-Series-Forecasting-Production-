{
  "nbformat": 4,
  "nbformat_minor": 0,
  "metadata": {
    "colab": {
      "name": "Time-Series-Forecasting-LSTM.ipynb",
      "provenance": []
    },
    "kernelspec": {
      "name": "python3",
      "display_name": "Python 3"
    },
    "language_info": {
      "name": "python"
    }
  },
  "cells": [
    {
      "cell_type": "code",
      "execution_count": null,
      "metadata": {
        "id": "CD4lsKQjPOU5"
      },
      "outputs": [],
      "source": [
        "#Import required library\n",
        "import pandas as pd\n",
        "import numpy as np\n",
        "import matplotlib.pyplot as plt"
      ]
    },
    {
      "cell_type": "code",
      "source": [
        "#Read the csv file\n",
        "df = pd.read_csv('/content/drive/MyDrive/Time Series/Time Series Forecasting LSTM/monthly_milk_production.csv', index_col = 'Date', parse_dates = True)\n",
        "df.head()"
      ],
      "metadata": {
        "colab": {
          "base_uri": "https://localhost:8080/",
          "height": 238
        },
        "id": "_VerlwtfVsWl",
        "outputId": "b9521dd9-1498-4971-c756-208515606687"
      },
      "execution_count": null,
      "outputs": [
        {
          "output_type": "execute_result",
          "data": {
            "text/html": [
              "\n",
              "  <div id=\"df-18d44866-f862-4529-b8f0-2bc43a65e6e7\">\n",
              "    <div class=\"colab-df-container\">\n",
              "      <div>\n",
              "<style scoped>\n",
              "    .dataframe tbody tr th:only-of-type {\n",
              "        vertical-align: middle;\n",
              "    }\n",
              "\n",
              "    .dataframe tbody tr th {\n",
              "        vertical-align: top;\n",
              "    }\n",
              "\n",
              "    .dataframe thead th {\n",
              "        text-align: right;\n",
              "    }\n",
              "</style>\n",
              "<table border=\"1\" class=\"dataframe\">\n",
              "  <thead>\n",
              "    <tr style=\"text-align: right;\">\n",
              "      <th></th>\n",
              "      <th>Production</th>\n",
              "    </tr>\n",
              "    <tr>\n",
              "      <th>Date</th>\n",
              "      <th></th>\n",
              "    </tr>\n",
              "  </thead>\n",
              "  <tbody>\n",
              "    <tr>\n",
              "      <th>1962-01-01</th>\n",
              "      <td>589</td>\n",
              "    </tr>\n",
              "    <tr>\n",
              "      <th>1962-02-01</th>\n",
              "      <td>561</td>\n",
              "    </tr>\n",
              "    <tr>\n",
              "      <th>1962-03-01</th>\n",
              "      <td>640</td>\n",
              "    </tr>\n",
              "    <tr>\n",
              "      <th>1962-04-01</th>\n",
              "      <td>656</td>\n",
              "    </tr>\n",
              "    <tr>\n",
              "      <th>1962-05-01</th>\n",
              "      <td>727</td>\n",
              "    </tr>\n",
              "  </tbody>\n",
              "</table>\n",
              "</div>\n",
              "      <button class=\"colab-df-convert\" onclick=\"convertToInteractive('df-18d44866-f862-4529-b8f0-2bc43a65e6e7')\"\n",
              "              title=\"Convert this dataframe to an interactive table.\"\n",
              "              style=\"display:none;\">\n",
              "        \n",
              "  <svg xmlns=\"http://www.w3.org/2000/svg\" height=\"24px\"viewBox=\"0 0 24 24\"\n",
              "       width=\"24px\">\n",
              "    <path d=\"M0 0h24v24H0V0z\" fill=\"none\"/>\n",
              "    <path d=\"M18.56 5.44l.94 2.06.94-2.06 2.06-.94-2.06-.94-.94-2.06-.94 2.06-2.06.94zm-11 1L8.5 8.5l.94-2.06 2.06-.94-2.06-.94L8.5 2.5l-.94 2.06-2.06.94zm10 10l.94 2.06.94-2.06 2.06-.94-2.06-.94-.94-2.06-.94 2.06-2.06.94z\"/><path d=\"M17.41 7.96l-1.37-1.37c-.4-.4-.92-.59-1.43-.59-.52 0-1.04.2-1.43.59L10.3 9.45l-7.72 7.72c-.78.78-.78 2.05 0 2.83L4 21.41c.39.39.9.59 1.41.59.51 0 1.02-.2 1.41-.59l7.78-7.78 2.81-2.81c.8-.78.8-2.07 0-2.86zM5.41 20L4 18.59l7.72-7.72 1.47 1.35L5.41 20z\"/>\n",
              "  </svg>\n",
              "      </button>\n",
              "      \n",
              "  <style>\n",
              "    .colab-df-container {\n",
              "      display:flex;\n",
              "      flex-wrap:wrap;\n",
              "      gap: 12px;\n",
              "    }\n",
              "\n",
              "    .colab-df-convert {\n",
              "      background-color: #E8F0FE;\n",
              "      border: none;\n",
              "      border-radius: 50%;\n",
              "      cursor: pointer;\n",
              "      display: none;\n",
              "      fill: #1967D2;\n",
              "      height: 32px;\n",
              "      padding: 0 0 0 0;\n",
              "      width: 32px;\n",
              "    }\n",
              "\n",
              "    .colab-df-convert:hover {\n",
              "      background-color: #E2EBFA;\n",
              "      box-shadow: 0px 1px 2px rgba(60, 64, 67, 0.3), 0px 1px 3px 1px rgba(60, 64, 67, 0.15);\n",
              "      fill: #174EA6;\n",
              "    }\n",
              "\n",
              "    [theme=dark] .colab-df-convert {\n",
              "      background-color: #3B4455;\n",
              "      fill: #D2E3FC;\n",
              "    }\n",
              "\n",
              "    [theme=dark] .colab-df-convert:hover {\n",
              "      background-color: #434B5C;\n",
              "      box-shadow: 0px 1px 3px 1px rgba(0, 0, 0, 0.15);\n",
              "      filter: drop-shadow(0px 1px 2px rgba(0, 0, 0, 0.3));\n",
              "      fill: #FFFFFF;\n",
              "    }\n",
              "  </style>\n",
              "\n",
              "      <script>\n",
              "        const buttonEl =\n",
              "          document.querySelector('#df-18d44866-f862-4529-b8f0-2bc43a65e6e7 button.colab-df-convert');\n",
              "        buttonEl.style.display =\n",
              "          google.colab.kernel.accessAllowed ? 'block' : 'none';\n",
              "\n",
              "        async function convertToInteractive(key) {\n",
              "          const element = document.querySelector('#df-18d44866-f862-4529-b8f0-2bc43a65e6e7');\n",
              "          const dataTable =\n",
              "            await google.colab.kernel.invokeFunction('convertToInteractive',\n",
              "                                                     [key], {});\n",
              "          if (!dataTable) return;\n",
              "\n",
              "          const docLinkHtml = 'Like what you see? Visit the ' +\n",
              "            '<a target=\"_blank\" href=https://colab.research.google.com/notebooks/data_table.ipynb>data table notebook</a>'\n",
              "            + ' to learn more about interactive tables.';\n",
              "          element.innerHTML = '';\n",
              "          dataTable['output_type'] = 'display_data';\n",
              "          await google.colab.output.renderOutput(dataTable, element);\n",
              "          const docLink = document.createElement('div');\n",
              "          docLink.innerHTML = docLinkHtml;\n",
              "          element.appendChild(docLink);\n",
              "        }\n",
              "      </script>\n",
              "    </div>\n",
              "  </div>\n",
              "  "
            ],
            "text/plain": [
              "            Production\n",
              "Date                  \n",
              "1962-01-01         589\n",
              "1962-02-01         561\n",
              "1962-03-01         640\n",
              "1962-04-01         656\n",
              "1962-05-01         727"
            ]
          },
          "metadata": {},
          "execution_count": 107
        }
      ]
    },
    {
      "cell_type": "code",
      "source": [
        "#How is look this data?\n",
        "df.plot(figsize = (12,6))"
      ],
      "metadata": {
        "colab": {
          "base_uri": "https://localhost:8080/",
          "height": 405
        },
        "id": "3nF3rXMcWtEN",
        "outputId": "214ddcd5-0938-47ba-d03f-7bc7d5d76d32"
      },
      "execution_count": null,
      "outputs": [
        {
          "output_type": "execute_result",
          "data": {
            "text/plain": [
              "<matplotlib.axes._subplots.AxesSubplot at 0x7f43ed5f7510>"
            ]
          },
          "metadata": {},
          "execution_count": 108
        },
        {
          "output_type": "display_data",
          "data": {
            "image/png": "[encoded data removed]",
            "text/plain": [
              "<Figure size 864x432 with 1 Axes>"
            ]
          },
          "metadata": {
            "needs_background": "light"
          }
        }
      ]
    },
    {
      "cell_type": "code",
      "source": [
        "#As its name implies, statsmodels is a Python library built specifically for statistics. Statsmodels is built on top of NumPy, SciPy, and matplotlib, but it contains more advanced functions for statistical testing and modeling that you won't find in numerical libraries like NumPy or SciPy.\n",
        "#Statsmodels is a Python module that provides classes and functions for the estimation of many different statistical models, as well as for conducting statistical tests, and statistical data exploration. An extensive list of result statistics are available for each estimator.\n",
        "\n",
        "from statsmodels.tsa.seasonal import seasonal_decompose"
      ],
      "metadata": {
        "id": "FMSwFLgkX7_M"
      },
      "execution_count": null,
      "outputs": []
    },
    {
      "cell_type": "code",
      "source": [
        "results = seasonal_decompose(df['Production'])\n",
        "print(results.plot())"
      ],
      "metadata": {
        "colab": {
          "base_uri": "https://localhost:8080/",
          "height": 314
        },
        "id": "th-1vt7cYPAy",
        "outputId": "2ed73afa-145d-4b89-fc9c-889835251713"
      },
      "execution_count": null,
      "outputs": [
        {
          "output_type": "stream",
          "name": "stdout",
          "text": [
            "Figure(432x288)\n"
          ]
        },
        {
          "output_type": "display_data",
          "data": {
            "image/png": "[encoded data removed]",
            "text/plain": [
              "<Figure size 432x288 with 4 Axes>"
            ]
          },
          "metadata": {
            "needs_background": "light"
          }
        }
      ]
    },
    {
      "cell_type": "code",
      "source": [
        "len(df)"
      ],
      "metadata": {
        "colab": {
          "base_uri": "https://localhost:8080/"
        },
        "id": "Kl356-B8bIGG",
        "outputId": "ac6f2aa4-45e2-472e-909d-5dfb5672ce32"
      },
      "execution_count": null,
      "outputs": [
        {
          "output_type": "execute_result",
          "data": {
            "text/plain": [
              "168"
            ]
          },
          "metadata": {},
          "execution_count": 111
        }
      ]
    },
    {
      "cell_type": "code",
      "source": [
        "#Train_Test_Split\n",
        "train = df.iloc[:156]\n",
        "test = df.iloc[156:]"
      ],
      "metadata": {
        "id": "wQuAHFK8bL0j"
      },
      "execution_count": null,
      "outputs": []
    },
    {
      "cell_type": "code",
      "source": [
        "df.head(), df.tail()"
      ],
      "metadata": {
        "colab": {
          "base_uri": "https://localhost:8080/"
        },
        "id": "ALSbvrg_bbpD",
        "outputId": "46f40422-f752-4d5f-95df-144a0e8ecab7"
      },
      "execution_count": null,
      "outputs": [
        {
          "output_type": "execute_result",
          "data": {
            "text/plain": [
              "(            Production\n",
              " Date                  \n",
              " 1962-01-01         589\n",
              " 1962-02-01         561\n",
              " 1962-03-01         640\n",
              " 1962-04-01         656\n",
              " 1962-05-01         727,             Production\n",
              " Date                  \n",
              " 1975-08-01         858\n",
              " 1975-09-01         817\n",
              " 1975-10-01         827\n",
              " 1975-11-01         797\n",
              " 1975-12-01         843)"
            ]
          },
          "metadata": {},
          "execution_count": 113
        }
      ]
    },
    {
      "cell_type": "code",
      "source": [
        "from sklearn.preprocessing import MinMaxScaler\n",
        "scaler = MinMaxScaler()"
      ],
      "metadata": {
        "id": "JAr1x_iycLYI"
      },
      "execution_count": null,
      "outputs": []
    },
    {
      "cell_type": "code",
      "source": [
        "#Question: why to use Scaler.fit only on x_train and not on x_test for normalizing value using MinMaxScaler?\n",
        "#Answer: If you would fit the scaler using x_test you would be using information from your test set \n",
        "#and would be leaking data. This is information that you would not have if your model was in production \n",
        "#and can therefore not use when fitting your model.\n",
        "\n",
        "scaler.fit(train)\n",
        "scaled_train = scaler.transform(train)\n",
        "scaled_test = scaler.transform(test)"
      ],
      "metadata": {
        "id": "vxcjdAKkb3E1"
      },
      "execution_count": null,
      "outputs": []
    },
    {
      "cell_type": "code",
      "source": [
        "scaled_train[:10]"
      ],
      "metadata": {
        "colab": {
          "base_uri": "https://localhost:8080/"
        },
        "id": "UDbZIOH0clbC",
        "outputId": "4d886e55-1bd8-4162-d113-7ef4acf981c4"
      },
      "execution_count": null,
      "outputs": [
        {
          "output_type": "execute_result",
          "data": {
            "text/plain": [
              "array([[0.08653846],\n",
              "       [0.01923077],\n",
              "       [0.20913462],\n",
              "       [0.24759615],\n",
              "       [0.41826923],\n",
              "       [0.34615385],\n",
              "       [0.20913462],\n",
              "       [0.11057692],\n",
              "       [0.03605769],\n",
              "       [0.05769231]])"
            ]
          },
          "metadata": {},
          "execution_count": 116
        }
      ]
    },
    {
      "cell_type": "code",
      "source": [
        "scaled_test"
      ],
      "metadata": {
        "colab": {
          "base_uri": "https://localhost:8080/"
        },
        "id": "7HEMBf40cp7c",
        "outputId": "57d9da39-6d26-4cb6-e0f0-1a9a075dc1e6"
      },
      "execution_count": null,
      "outputs": [
        {
          "output_type": "execute_result",
          "data": {
            "text/plain": [
              "array([[0.67548077],\n",
              "       [0.55048077],\n",
              "       [0.81490385],\n",
              "       [0.84134615],\n",
              "       [0.99278846],\n",
              "       [0.92307692],\n",
              "       [0.82451923],\n",
              "       [0.73317308],\n",
              "       [0.63461538],\n",
              "       [0.65865385],\n",
              "       [0.58653846],\n",
              "       [0.69711538]])"
            ]
          },
          "metadata": {},
          "execution_count": 117
        }
      ]
    },
    {
      "cell_type": "code",
      "source": [
        "from keras.preprocessing.sequence import TimeseriesGenerator\n",
        "\n",
        "#define generator\n",
        "\n",
        "n_input = 3\n",
        "n_feature = 1\n",
        "generator = TimeseriesGenerator(scaled_train, scaled_train, length = n_input, batch_size = 1)"
      ],
      "metadata": {
        "id": "FEQOgdt6eqSf"
      },
      "execution_count": null,
      "outputs": []
    },
    {
      "cell_type": "code",
      "source": [
        "X, y = generator[0]\n",
        "print('Given the Array: \\n', X.flatten())\n",
        "print('Predict this y: \\n', y)"
      ],
      "metadata": {
        "colab": {
          "base_uri": "https://localhost:8080/"
        },
        "id": "rXFllcDIgdLM",
        "outputId": "d687268c-5426-40af-8787-3c8bca8b7160"
      },
      "execution_count": null,
      "outputs": [
        {
          "output_type": "stream",
          "name": "stdout",
          "text": [
            "Given the Array: \n",
            " [0.08653846 0.01923077 0.20913462]\n",
            "Predict this y: \n",
            " [[0.24759615]]\n"
          ]
        }
      ]
    },
    {
      "cell_type": "code",
      "source": [
        "X.shape"
      ],
      "metadata": {
        "colab": {
          "base_uri": "https://localhost:8080/"
        },
        "id": "GjdEjIvUhorO",
        "outputId": "e3afee09-7d0e-4caf-bc34-e32612d95b9c"
      },
      "execution_count": null,
      "outputs": [
        {
          "output_type": "execute_result",
          "data": {
            "text/plain": [
              "(1, 3, 1)"
            ]
          },
          "metadata": {},
          "execution_count": 120
        }
      ]
    },
    {
      "cell_type": "code",
      "source": [
        "#Same thing, but we have used 12 months for single row instead of 3 months.\n",
        "n_input = 12\n",
        "generator = TimeseriesGenerator(scaled_train, scaled_train, length = n_input, batch_size = 1)"
      ],
      "metadata": {
        "id": "GHjTX2TOiwzp"
      },
      "execution_count": null,
      "outputs": []
    },
    {
      "cell_type": "code",
      "source": [
        "from keras.models import Sequential\n",
        "from keras.layers import Dense\n",
        "from keras.layers import LSTM"
      ],
      "metadata": {
        "id": "Ttubgrzpjd5N"
      },
      "execution_count": null,
      "outputs": []
    },
    {
      "cell_type": "code",
      "source": [
        "#Define model\n",
        "model = Sequential()\n",
        "model.add(LSTM(100, activation = 'relu', input_shape = (n_input, n_feature)))\n",
        "model.add(Dense(1))\n",
        "model.compile(optimizer = 'adam', loss = 'mse')"
      ],
      "metadata": {
        "id": "lIree2zlju15"
      },
      "execution_count": null,
      "outputs": []
    },
    {
      "cell_type": "code",
      "source": [
        "model.summary()"
      ],
      "metadata": {
        "colab": {
          "base_uri": "https://localhost:8080/"
        },
        "id": "_rg6zLCSkjQ-",
        "outputId": "a0ad7d15-b6bf-4e0b-e5bf-b198183a658f"
      },
      "execution_count": null,
      "outputs": [
        {
          "output_type": "stream",
          "name": "stdout",
          "text": [
            "Model: \"sequential_3\"\n",
            "_________________________________________________________________\n",
            " Layer (type)                Output Shape              Param #   \n",
            "=================================================================\n",
            " lstm_2 (LSTM)               (None, 100)               40800     \n",
            "                                                                 \n",
            " dense_2 (Dense)             (None, 1)                 101       \n",
            "                                                                 \n",
            "=================================================================\n",
            "Total params: 40,901\n",
            "Trainable params: 40,901\n",
            "Non-trainable params: 0\n",
            "_________________________________________________________________\n"
          ]
        }
      ]
    },
    {
      "cell_type": "code",
      "source": [
        "scaled_train.shape"
      ],
      "metadata": {
        "colab": {
          "base_uri": "https://localhost:8080/"
        },
        "id": "j22ipxTWlRGp",
        "outputId": "794e63b9-bb11-449d-b4c3-98333b9e3d7d"
      },
      "execution_count": null,
      "outputs": [
        {
          "output_type": "execute_result",
          "data": {
            "text/plain": [
              "(156, 1)"
            ]
          },
          "metadata": {},
          "execution_count": 125
        }
      ]
    },
    {
      "cell_type": "code",
      "source": [
        "#Fit the model\n",
        "model.fit(generator, epochs = 50)"
      ],
      "metadata": {
        "colab": {
          "base_uri": "https://localhost:8080/"
        },
        "id": "E7o9WkTHk04e",
        "outputId": "583170f2-f97f-41fa-b2e6-2167c7dd0075"
      },
      "execution_count": null,
      "outputs": [
        {
          "output_type": "stream",
          "name": "stdout",
          "text": [
            "Epoch 1/50\n",
            "144/144 [==============================] - 2s 5ms/step - loss: 0.0452\n",
            "Epoch 2/50\n",
            "144/144 [==============================] - 1s 5ms/step - loss: 0.0236\n",
            "Epoch 3/50\n",
            "144/144 [==============================] - 1s 5ms/step - loss: 0.0169\n",
            "Epoch 4/50\n",
            "144/144 [==============================] - 1s 5ms/step - loss: 0.0120\n",
            "Epoch 5/50\n",
            "144/144 [==============================] - 1s 5ms/step - loss: 0.0283\n",
            "Epoch 6/50\n",
            "144/144 [==============================] - 1s 5ms/step - loss: 0.0097\n",
            "Epoch 7/50\n",
            "144/144 [==============================] - 1s 5ms/step - loss: 0.0066\n",
            "Epoch 8/50\n",
            "144/144 [==============================] - 1s 5ms/step - loss: 0.0073\n",
            "Epoch 9/50\n",
            "144/144 [==============================] - 1s 5ms/step - loss: 0.0047\n",
            "Epoch 10/50\n",
            "144/144 [==============================] - 1s 5ms/step - loss: 0.0046\n",
            "Epoch 11/50\n",
            "144/144 [==============================] - 1s 5ms/step - loss: 0.0046\n",
            "Epoch 12/50\n",
            "144/144 [==============================] - 1s 6ms/step - loss: 0.0036\n",
            "Epoch 13/50\n",
            "144/144 [==============================] - 1s 5ms/step - loss: 0.0043\n",
            "Epoch 14/50\n",
            "144/144 [==============================] - 1s 5ms/step - loss: 0.0035\n",
            "Epoch 15/50\n",
            "144/144 [==============================] - 1s 5ms/step - loss: 0.0043\n",
            "Epoch 16/50\n",
            "144/144 [==============================] - 1s 5ms/step - loss: 0.0037\n",
            "Epoch 17/50\n",
            "144/144 [==============================] - 1s 5ms/step - loss: 0.0034\n",
            "Epoch 18/50\n",
            "144/144 [==============================] - 1s 5ms/step - loss: 0.0038\n",
            "Epoch 19/50\n",
            "144/144 [==============================] - 1s 5ms/step - loss: 0.0032\n",
            "Epoch 20/50\n",
            "144/144 [==============================] - 1s 5ms/step - loss: 0.0033\n",
            "Epoch 21/50\n",
            "144/144 [==============================] - 1s 5ms/step - loss: 0.0073\n",
            "Epoch 22/50\n",
            "144/144 [==============================] - 1s 5ms/step - loss: 0.0030\n",
            "Epoch 23/50\n",
            "144/144 [==============================] - 1s 5ms/step - loss: 0.0034\n",
            "Epoch 24/50\n",
            "144/144 [==============================] - 1s 5ms/step - loss: 0.0030\n",
            "Epoch 25/50\n",
            "144/144 [==============================] - 1s 5ms/step - loss: 0.0032\n",
            "Epoch 26/50\n",
            "144/144 [==============================] - 1s 5ms/step - loss: 0.0031\n",
            "Epoch 27/50\n",
            "144/144 [==============================] - 1s 5ms/step - loss: 0.0042\n",
            "Epoch 28/50\n",
            "144/144 [==============================] - 1s 5ms/step - loss: 0.0032\n",
            "Epoch 29/50\n",
            "144/144 [==============================] - 1s 5ms/step - loss: 0.0033\n",
            "Epoch 30/50\n",
            "144/144 [==============================] - 1s 5ms/step - loss: 0.0031\n",
            "Epoch 31/50\n",
            "144/144 [==============================] - 1s 5ms/step - loss: 0.0028\n",
            "Epoch 32/50\n",
            "144/144 [==============================] - 1s 5ms/step - loss: 0.0033\n",
            "Epoch 33/50\n",
            "144/144 [==============================] - 1s 5ms/step - loss: 0.0026\n",
            "Epoch 34/50\n",
            "144/144 [==============================] - 1s 5ms/step - loss: 0.0026\n",
            "Epoch 35/50\n",
            "144/144 [==============================] - 1s 5ms/step - loss: 0.0025\n",
            "Epoch 36/50\n",
            "144/144 [==============================] - 1s 5ms/step - loss: 0.0039\n",
            "Epoch 37/50\n",
            "144/144 [==============================] - 1s 5ms/step - loss: 0.0033\n",
            "Epoch 38/50\n",
            "144/144 [==============================] - 1s 5ms/step - loss: 0.0025\n",
            "Epoch 39/50\n",
            "144/144 [==============================] - 1s 5ms/step - loss: 0.0030\n",
            "Epoch 40/50\n",
            "144/144 [==============================] - 1s 5ms/step - loss: 0.0029\n",
            "Epoch 41/50\n",
            "144/144 [==============================] - 1s 5ms/step - loss: 0.0025\n",
            "Epoch 42/50\n",
            "144/144 [==============================] - 1s 5ms/step - loss: 0.0027\n",
            "Epoch 43/50\n",
            "144/144 [==============================] - 1s 6ms/step - loss: 0.0026\n",
            "Epoch 44/50\n",
            "144/144 [==============================] - 1s 5ms/step - loss: 0.0025\n",
            "Epoch 45/50\n",
            "144/144 [==============================] - 1s 5ms/step - loss: 0.0022\n",
            "Epoch 46/50\n",
            "144/144 [==============================] - 1s 5ms/step - loss: 0.0020\n",
            "Epoch 47/50\n",
            "144/144 [==============================] - 1s 5ms/step - loss: 0.0023\n",
            "Epoch 48/50\n",
            "144/144 [==============================] - 1s 5ms/step - loss: 0.0019\n",
            "Epoch 49/50\n",
            "144/144 [==============================] - 1s 5ms/step - loss: 0.0024\n",
            "Epoch 50/50\n",
            "144/144 [==============================] - 1s 5ms/step - loss: 0.0026\n"
          ]
        },
        {
          "output_type": "execute_result",
          "data": {
            "text/plain": [
              "<keras.callbacks.History at 0x7f43ece6d650>"
            ]
          },
          "metadata": {},
          "execution_count": 126
        }
      ]
    },
    {
      "cell_type": "code",
      "source": [
        "#Check the amount of loss per epoch.\n",
        "\n",
        "loss_per_epoch = model.history.history['loss']\n",
        "plt.plot(range(len(loss_per_epoch)), loss_per_epoch)"
      ],
      "metadata": {
        "colab": {
          "base_uri": "https://localhost:8080/",
          "height": 282
        },
        "id": "TLbfYPMpnwFQ",
        "outputId": "d988d953-0073-4c93-d778-b7c115033405"
      },
      "execution_count": null,
      "outputs": [
        {
          "output_type": "execute_result",
          "data": {
            "text/plain": [
              "[<matplotlib.lines.Line2D at 0x7f43eda85410>]"
            ]
          },
          "metadata": {},
          "execution_count": 127
        },
        {
          "output_type": "display_data",
          "data": {
            "image/png": "[encoded data removed]",
            "text/plain": [
              "<Figure size 432x288 with 1 Axes>"
            ]
          },
          "metadata": {
            "needs_background": "light"
          }
        }
      ]
    },
    {
      "cell_type": "code",
      "source": [
        "#Predict for the last 12 data of training set (n_input = 12)\n",
        "last_train_batch = scaled_train[-12:]\n",
        "last_train_batch  = last_train_batch.reshape((1, n_input, n_feature))"
      ],
      "metadata": {
        "id": "l_9Yts6LrI5O"
      },
      "execution_count": null,
      "outputs": []
    },
    {
      "cell_type": "code",
      "source": [
        "print(last_train_batch)"
      ],
      "metadata": {
        "colab": {
          "base_uri": "https://localhost:8080/"
        },
        "id": "RzY9BwylCb39",
        "outputId": "e7df2a5b-89ce-40f4-a640-b6537c283334"
      },
      "execution_count": null,
      "outputs": [
        {
          "output_type": "stream",
          "name": "stdout",
          "text": [
            "[[[0.66105769]\n",
            "  [0.54086538]\n",
            "  [0.80769231]\n",
            "  [0.83894231]\n",
            "  [1.        ]\n",
            "  [0.94711538]\n",
            "  [0.85336538]\n",
            "  [0.75480769]\n",
            "  [0.62980769]\n",
            "  [0.62259615]\n",
            "  [0.52884615]\n",
            "  [0.625     ]]]\n"
          ]
        }
      ]
    },
    {
      "cell_type": "code",
      "source": [
        "model.predict(last_train_batch)"
      ],
      "metadata": {
        "colab": {
          "base_uri": "https://localhost:8080/"
        },
        "id": "20sHcUaUrswx",
        "outputId": "3b5abe2f-3551-4830-8ab0-73d9a88a2d47"
      },
      "execution_count": null,
      "outputs": [
        {
          "output_type": "execute_result",
          "data": {
            "text/plain": [
              "array([[0.6164183]], dtype=float32)"
            ]
          },
          "metadata": {},
          "execution_count": 131
        }
      ]
    },
    {
      "cell_type": "code",
      "source": [
        "#Actual output\n",
        "scaled_test[0]"
      ],
      "metadata": {
        "colab": {
          "base_uri": "https://localhost:8080/"
        },
        "id": "emYWo1o27rLa",
        "outputId": "e42cfc4a-e871-43a1-fe26-69d235102b6b"
      },
      "execution_count": null,
      "outputs": [
        {
          "output_type": "execute_result",
          "data": {
            "text/plain": [
              "array([0.67548077])"
            ]
          },
          "metadata": {},
          "execution_count": 135
        }
      ]
    },
    {
      "cell_type": "code",
      "source": [
        "#Prediction and compare with test data\n",
        "test_predictions = []\n",
        "\n",
        "first_eval_batch = scaled_train[-n_input:]\n",
        "current_batch = first_eval_batch.reshape((1, n_input, n_feature))\n",
        "print(\"*************\")\n",
        "print(current_batch)\n",
        "print(\"*************\")\n",
        "for i in range(len(test)):\n",
        "  #get the prediction value for the first batch\n",
        "  current_pred = model.predict(current_batch)[0]\n",
        "  print(\"-------------------\")\n",
        "  print(model.predict(current_batch))\n",
        "  print(current_pred)\n",
        "  print(\"-------------------\")\n",
        "\n",
        "  #append the predictin into the array\n",
        "  test_predictions.append(current_pred)\n",
        "\n",
        "  #use the prediction to update the batch and remove the first value\n",
        "  current_batch = np.append(current_batch[:,1:,:], [[current_pred]], axis=1)\n",
        "  print(\"*************\")\n",
        "  print(current_batch)\n",
        "  print(\"*************\")"
      ],
      "metadata": {
        "colab": {
          "base_uri": "https://localhost:8080/"
        },
        "id": "8Bc4eI6K-0QA",
        "outputId": "efcd4157-f14e-408b-e5eb-ea80590dcb9c"
      },
      "execution_count": null,
      "outputs": [
        {
          "output_type": "stream",
          "name": "stdout",
          "text": [
            "*************\n",
            "[[[0.66105769]\n",
            "  [0.54086538]\n",
            "  [0.80769231]\n",
            "  [0.83894231]\n",
            "  [1.        ]\n",
            "  [0.94711538]\n",
            "  [0.85336538]\n",
            "  [0.75480769]\n",
            "  [0.62980769]\n",
            "  [0.62259615]\n",
            "  [0.52884615]\n",
            "  [0.625     ]]]\n",
            "*************\n",
            "-------------------\n",
            "[[0.6164183]]\n",
            "[0.6164183]\n",
            "-------------------\n",
            "*************\n",
            "[[[0.54086538]\n",
            "  [0.80769231]\n",
            "  [0.83894231]\n",
            "  [1.        ]\n",
            "  [0.94711538]\n",
            "  [0.85336538]\n",
            "  [0.75480769]\n",
            "  [0.62980769]\n",
            "  [0.62259615]\n",
            "  [0.52884615]\n",
            "  [0.625     ]\n",
            "  [0.6164183 ]]]\n",
            "*************\n",
            "-------------------\n",
            "[[0.5969374]]\n",
            "[0.5969374]\n",
            "-------------------\n",
            "*************\n",
            "[[[0.80769231]\n",
            "  [0.83894231]\n",
            "  [1.        ]\n",
            "  [0.94711538]\n",
            "  [0.85336538]\n",
            "  [0.75480769]\n",
            "  [0.62980769]\n",
            "  [0.62259615]\n",
            "  [0.52884615]\n",
            "  [0.625     ]\n",
            "  [0.6164183 ]\n",
            "  [0.59693742]]]\n",
            "*************\n",
            "-------------------\n",
            "[[0.75329256]]\n",
            "[0.75329256]\n",
            "-------------------\n",
            "*************\n",
            "[[[0.83894231]\n",
            "  [1.        ]\n",
            "  [0.94711538]\n",
            "  [0.85336538]\n",
            "  [0.75480769]\n",
            "  [0.62980769]\n",
            "  [0.62259615]\n",
            "  [0.52884615]\n",
            "  [0.625     ]\n",
            "  [0.6164183 ]\n",
            "  [0.59693742]\n",
            "  [0.75329256]]]\n",
            "*************\n",
            "-------------------\n",
            "[[0.8196089]]\n",
            "[0.8196089]\n",
            "-------------------\n",
            "*************\n",
            "[[[1.        ]\n",
            "  [0.94711538]\n",
            "  [0.85336538]\n",
            "  [0.75480769]\n",
            "  [0.62980769]\n",
            "  [0.62259615]\n",
            "  [0.52884615]\n",
            "  [0.625     ]\n",
            "  [0.6164183 ]\n",
            "  [0.59693742]\n",
            "  [0.75329256]\n",
            "  [0.81960893]]]\n",
            "*************\n",
            "-------------------\n",
            "[[0.9095762]]\n",
            "[0.9095762]\n",
            "-------------------\n",
            "*************\n",
            "[[[0.94711538]\n",
            "  [0.85336538]\n",
            "  [0.75480769]\n",
            "  [0.62980769]\n",
            "  [0.62259615]\n",
            "  [0.52884615]\n",
            "  [0.625     ]\n",
            "  [0.6164183 ]\n",
            "  [0.59693742]\n",
            "  [0.75329256]\n",
            "  [0.81960893]\n",
            "  [0.90957618]]]\n",
            "*************\n",
            "-------------------\n",
            "[[0.88953155]]\n",
            "[0.88953155]\n",
            "-------------------\n",
            "*************\n",
            "[[[0.85336538]\n",
            "  [0.75480769]\n",
            "  [0.62980769]\n",
            "  [0.62259615]\n",
            "  [0.52884615]\n",
            "  [0.625     ]\n",
            "  [0.6164183 ]\n",
            "  [0.59693742]\n",
            "  [0.75329256]\n",
            "  [0.81960893]\n",
            "  [0.90957618]\n",
            "  [0.88953155]]]\n",
            "*************\n",
            "-------------------\n",
            "[[0.8210729]]\n",
            "[0.8210729]\n",
            "-------------------\n",
            "*************\n",
            "[[[0.75480769]\n",
            "  [0.62980769]\n",
            "  [0.62259615]\n",
            "  [0.52884615]\n",
            "  [0.625     ]\n",
            "  [0.6164183 ]\n",
            "  [0.59693742]\n",
            "  [0.75329256]\n",
            "  [0.81960893]\n",
            "  [0.90957618]\n",
            "  [0.88953155]\n",
            "  [0.82107288]]]\n",
            "*************\n",
            "-------------------\n",
            "[[0.73182535]]\n",
            "[0.73182535]\n",
            "-------------------\n",
            "*************\n",
            "[[[0.62980769]\n",
            "  [0.62259615]\n",
            "  [0.52884615]\n",
            "  [0.625     ]\n",
            "  [0.6164183 ]\n",
            "  [0.59693742]\n",
            "  [0.75329256]\n",
            "  [0.81960893]\n",
            "  [0.90957618]\n",
            "  [0.88953155]\n",
            "  [0.82107288]\n",
            "  [0.73182535]]]\n",
            "*************\n",
            "-------------------\n",
            "[[0.6289797]]\n",
            "[0.6289797]\n",
            "-------------------\n",
            "*************\n",
            "[[[0.62259615]\n",
            "  [0.52884615]\n",
            "  [0.625     ]\n",
            "  [0.6164183 ]\n",
            "  [0.59693742]\n",
            "  [0.75329256]\n",
            "  [0.81960893]\n",
            "  [0.90957618]\n",
            "  [0.88953155]\n",
            "  [0.82107288]\n",
            "  [0.73182535]\n",
            "  [0.62897968]]]\n",
            "*************\n",
            "-------------------\n",
            "[[0.5879188]]\n",
            "[0.5879188]\n",
            "-------------------\n",
            "*************\n",
            "[[[0.52884615]\n",
            "  [0.625     ]\n",
            "  [0.6164183 ]\n",
            "  [0.59693742]\n",
            "  [0.75329256]\n",
            "  [0.81960893]\n",
            "  [0.90957618]\n",
            "  [0.88953155]\n",
            "  [0.82107288]\n",
            "  [0.73182535]\n",
            "  [0.62897968]\n",
            "  [0.58791882]]]\n",
            "*************\n",
            "-------------------\n",
            "[[0.54308325]]\n",
            "[0.54308325]\n",
            "-------------------\n",
            "*************\n",
            "[[[0.625     ]\n",
            "  [0.6164183 ]\n",
            "  [0.59693742]\n",
            "  [0.75329256]\n",
            "  [0.81960893]\n",
            "  [0.90957618]\n",
            "  [0.88953155]\n",
            "  [0.82107288]\n",
            "  [0.73182535]\n",
            "  [0.62897968]\n",
            "  [0.58791882]\n",
            "  [0.54308325]]]\n",
            "*************\n",
            "-------------------\n",
            "[[0.57277393]]\n",
            "[0.57277393]\n",
            "-------------------\n",
            "*************\n",
            "[[[0.6164183 ]\n",
            "  [0.59693742]\n",
            "  [0.75329256]\n",
            "  [0.81960893]\n",
            "  [0.90957618]\n",
            "  [0.88953155]\n",
            "  [0.82107288]\n",
            "  [0.73182535]\n",
            "  [0.62897968]\n",
            "  [0.58791882]\n",
            "  [0.54308325]\n",
            "  [0.57277393]]]\n",
            "*************\n"
          ]
        }
      ]
    },
    {
      "cell_type": "code",
      "source": [
        "#Actual test\n",
        "test.head()"
      ],
      "metadata": {
        "colab": {
          "base_uri": "https://localhost:8080/",
          "height": 238
        },
        "id": "-Toi9julDM2j",
        "outputId": "f850bfd7-d766-40fe-ced2-bef1d5915db1"
      },
      "execution_count": null,
      "outputs": [
        {
          "output_type": "execute_result",
          "data": {
            "text/html": [
              "\n",
              "  <div id=\"df-cbdc6b90-c6a1-4c0d-8dac-4ba02e47f84d\">\n",
              "    <div class=\"colab-df-container\">\n",
              "      <div>\n",
              "<style scoped>\n",
              "    .dataframe tbody tr th:only-of-type {\n",
              "        vertical-align: middle;\n",
              "    }\n",
              "\n",
              "    .dataframe tbody tr th {\n",
              "        vertical-align: top;\n",
              "    }\n",
              "\n",
              "    .dataframe thead th {\n",
              "        text-align: right;\n",
              "    }\n",
              "</style>\n",
              "<table border=\"1\" class=\"dataframe\">\n",
              "  <thead>\n",
              "    <tr style=\"text-align: right;\">\n",
              "      <th></th>\n",
              "      <th>Production</th>\n",
              "    </tr>\n",
              "    <tr>\n",
              "      <th>Date</th>\n",
              "      <th></th>\n",
              "    </tr>\n",
              "  </thead>\n",
              "  <tbody>\n",
              "    <tr>\n",
              "      <th>1975-01-01</th>\n",
              "      <td>834</td>\n",
              "    </tr>\n",
              "    <tr>\n",
              "      <th>1975-02-01</th>\n",
              "      <td>782</td>\n",
              "    </tr>\n",
              "    <tr>\n",
              "      <th>1975-03-01</th>\n",
              "      <td>892</td>\n",
              "    </tr>\n",
              "    <tr>\n",
              "      <th>1975-04-01</th>\n",
              "      <td>903</td>\n",
              "    </tr>\n",
              "    <tr>\n",
              "      <th>1975-05-01</th>\n",
              "      <td>966</td>\n",
              "    </tr>\n",
              "  </tbody>\n",
              "</table>\n",
              "</div>\n",
              "      <button class=\"colab-df-convert\" onclick=\"convertToInteractive('df-cbdc6b90-c6a1-4c0d-8dac-4ba02e47f84d')\"\n",
              "              title=\"Convert this dataframe to an interactive table.\"\n",
              "              style=\"display:none;\">\n",
              "        \n",
              "  <svg xmlns=\"http://www.w3.org/2000/svg\" height=\"24px\"viewBox=\"0 0 24 24\"\n",
              "       width=\"24px\">\n",
              "    <path d=\"M0 0h24v24H0V0z\" fill=\"none\"/>\n",
              "    <path d=\"M18.56 5.44l.94 2.06.94-2.06 2.06-.94-2.06-.94-.94-2.06-.94 2.06-2.06.94zm-11 1L8.5 8.5l.94-2.06 2.06-.94-2.06-.94L8.5 2.5l-.94 2.06-2.06.94zm10 10l.94 2.06.94-2.06 2.06-.94-2.06-.94-.94-2.06-.94 2.06-2.06.94z\"/><path d=\"M17.41 7.96l-1.37-1.37c-.4-.4-.92-.59-1.43-.59-.52 0-1.04.2-1.43.59L10.3 9.45l-7.72 7.72c-.78.78-.78 2.05 0 2.83L4 21.41c.39.39.9.59 1.41.59.51 0 1.02-.2 1.41-.59l7.78-7.78 2.81-2.81c.8-.78.8-2.07 0-2.86zM5.41 20L4 18.59l7.72-7.72 1.47 1.35L5.41 20z\"/>\n",
              "  </svg>\n",
              "      </button>\n",
              "      \n",
              "  <style>\n",
              "    .colab-df-container {\n",
              "      display:flex;\n",
              "      flex-wrap:wrap;\n",
              "      gap: 12px;\n",
              "    }\n",
              "\n",
              "    .colab-df-convert {\n",
              "      background-color: #E8F0FE;\n",
              "      border: none;\n",
              "      border-radius: 50%;\n",
              "      cursor: pointer;\n",
              "      display: none;\n",
              "      fill: #1967D2;\n",
              "      height: 32px;\n",
              "      padding: 0 0 0 0;\n",
              "      width: 32px;\n",
              "    }\n",
              "\n",
              "    .colab-df-convert:hover {\n",
              "      background-color: #E2EBFA;\n",
              "      box-shadow: 0px 1px 2px rgba(60, 64, 67, 0.3), 0px 1px 3px 1px rgba(60, 64, 67, 0.15);\n",
              "      fill: #174EA6;\n",
              "    }\n",
              "\n",
              "    [theme=dark] .colab-df-convert {\n",
              "      background-color: #3B4455;\n",
              "      fill: #D2E3FC;\n",
              "    }\n",
              "\n",
              "    [theme=dark] .colab-df-convert:hover {\n",
              "      background-color: #434B5C;\n",
              "      box-shadow: 0px 1px 3px 1px rgba(0, 0, 0, 0.15);\n",
              "      filter: drop-shadow(0px 1px 2px rgba(0, 0, 0, 0.3));\n",
              "      fill: #FFFFFF;\n",
              "    }\n",
              "  </style>\n",
              "\n",
              "      <script>\n",
              "        const buttonEl =\n",
              "          document.querySelector('#df-cbdc6b90-c6a1-4c0d-8dac-4ba02e47f84d button.colab-df-convert');\n",
              "        buttonEl.style.display =\n",
              "          google.colab.kernel.accessAllowed ? 'block' : 'none';\n",
              "\n",
              "        async function convertToInteractive(key) {\n",
              "          const element = document.querySelector('#df-cbdc6b90-c6a1-4c0d-8dac-4ba02e47f84d');\n",
              "          const dataTable =\n",
              "            await google.colab.kernel.invokeFunction('convertToInteractive',\n",
              "                                                     [key], {});\n",
              "          if (!dataTable) return;\n",
              "\n",
              "          const docLinkHtml = 'Like what you see? Visit the ' +\n",
              "            '<a target=\"_blank\" href=https://colab.research.google.com/notebooks/data_table.ipynb>data table notebook</a>'\n",
              "            + ' to learn more about interactive tables.';\n",
              "          element.innerHTML = '';\n",
              "          dataTable['output_type'] = 'display_data';\n",
              "          await google.colab.output.renderOutput(dataTable, element);\n",
              "          const docLink = document.createElement('div');\n",
              "          docLink.innerHTML = docLinkHtml;\n",
              "          element.appendChild(docLink);\n",
              "        }\n",
              "      </script>\n",
              "    </div>\n",
              "  </div>\n",
              "  "
            ],
            "text/plain": [
              "            Production\n",
              "Date                  \n",
              "1975-01-01         834\n",
              "1975-02-01         782\n",
              "1975-03-01         892\n",
              "1975-04-01         903\n",
              "1975-05-01         966"
            ]
          },
          "metadata": {},
          "execution_count": 139
        }
      ]
    },
    {
      "cell_type": "code",
      "source": [
        "#Our original test value is not normalized 0-1 but our test prediction is normalized (0-1)\n",
        "#Now, we will remove normalized from test predictions data.\n",
        "\n",
        "predictions = scaler.inverse_transform(test_predictions)\n",
        "test['Predictions'] = predictions\n",
        "\n",
        "#Plot to campare original test to predictions test.\n",
        "test.plot(figsize = (14,5))"
      ],
      "metadata": {
        "colab": {
          "base_uri": "https://localhost:8080/",
          "height": 491
        },
        "id": "9fchIGBODbG_",
        "outputId": "ef05e386-ab51-4f95-fab9-4b1f63ca80cc"
      },
      "execution_count": null,
      "outputs": [
        {
          "output_type": "stream",
          "name": "stderr",
          "text": [
            "/usr/local/lib/python3.7/dist-packages/ipykernel_launcher.py:5: SettingWithCopyWarning: \n",
            "A value is trying to be set on a copy of a slice from a DataFrame.\n",
            "Try using .loc[row_indexer,col_indexer] = value instead\n",
            "\n",
            "See the caveats in the documentation: https://pandas.pydata.org/pandas-docs/stable/user_guide/indexing.html#returning-a-view-versus-a-copy\n",
            "  \"\"\"\n"
          ]
        },
        {
          "output_type": "execute_result",
          "data": {
            "text/plain": [
              "<matplotlib.axes._subplots.AxesSubplot at 0x7f43ebfd70d0>"
            ]
          },
          "metadata": {},
          "execution_count": 142
        },
        {
          "output_type": "display_data",
          "data": {
            "image/png": "[encoded data removed]",
            "text/plain": [
              "<Figure size 1008x360 with 1 Axes>"
            ]
          },
          "metadata": {
            "needs_background": "light"
          }
        }
      ]
    },
    {
      "cell_type": "code",
      "source": [
        "#Errors count\n",
        "from sklearn.metrics import mean_squared_error\n",
        "from math import sqrt\n",
        "rmse = sqrt(mean_squared_error(test['Production'], test['Predictions']))\n",
        "print(rmse)"
      ],
      "metadata": {
        "colab": {
          "base_uri": "https://localhost:8080/"
        },
        "id": "ghDxoOSHFreA",
        "outputId": "c38b7293-ccf4-4475-80f9-6e3748a114b4"
      },
      "execution_count": null,
      "outputs": [
        {
          "output_type": "stream",
          "name": "stdout",
          "text": [
            "24.126409995215518\n"
          ]
        }
      ]
    },
    {
      "cell_type": "code",
      "source": [
        "#For next 30 days\n",
        "test_predictions = []\n",
        "\n",
        "first_eval_batch = scaled_train[-n_input:]\n",
        "current_batch = first_eval_batch.reshape((1, n_input, n_feature))\n",
        "print(\"*************\")\n",
        "print(current_batch)\n",
        "print(\"*************\")\n",
        "for i in range(30):\n",
        "  #get the prediction value for the first batch\n",
        "  current_pred = model.predict(current_batch)[0]\n",
        "  print(\"-------------------\")\n",
        "  print(model.predict(current_batch))\n",
        "  print(current_pred)\n",
        "  print(\"-------------------\")\n",
        "\n",
        "  #append the predictin into the array\n",
        "  test_predictions.append(current_pred)\n",
        "\n",
        "  #use the prediction to update the batch and remove the first value\n",
        "  current_batch = np.append(current_batch[:,1:,:], [[current_pred]], axis=1)\n",
        "  print(\"*************\")\n",
        "  print(current_batch)\n",
        "  print(\"*************\")"
      ],
      "metadata": {
        "colab": {
          "base_uri": "https://localhost:8080/"
        },
        "id": "FxcmO8PoGSHg",
        "outputId": "51656a3d-d426-4376-e671-d4b5ed637085"
      },
      "execution_count": null,
      "outputs": [
        {
          "output_type": "stream",
          "name": "stdout",
          "text": [
            "*************\n",
            "[[[0.66105769]\n",
            "  [0.54086538]\n",
            "  [0.80769231]\n",
            "  [0.83894231]\n",
            "  [1.        ]\n",
            "  [0.94711538]\n",
            "  [0.85336538]\n",
            "  [0.75480769]\n",
            "  [0.62980769]\n",
            "  [0.62259615]\n",
            "  [0.52884615]\n",
            "  [0.625     ]]]\n",
            "*************\n",
            "-------------------\n",
            "[[0.6164183]]\n",
            "[0.6164183]\n",
            "-------------------\n",
            "*************\n",
            "[[[0.54086538]\n",
            "  [0.80769231]\n",
            "  [0.83894231]\n",
            "  [1.        ]\n",
            "  [0.94711538]\n",
            "  [0.85336538]\n",
            "  [0.75480769]\n",
            "  [0.62980769]\n",
            "  [0.62259615]\n",
            "  [0.52884615]\n",
            "  [0.625     ]\n",
            "  [0.6164183 ]]]\n",
            "*************\n",
            "-------------------\n",
            "[[0.5969374]]\n",
            "[0.5969374]\n",
            "-------------------\n",
            "*************\n",
            "[[[0.80769231]\n",
            "  [0.83894231]\n",
            "  [1.        ]\n",
            "  [0.94711538]\n",
            "  [0.85336538]\n",
            "  [0.75480769]\n",
            "  [0.62980769]\n",
            "  [0.62259615]\n",
            "  [0.52884615]\n",
            "  [0.625     ]\n",
            "  [0.6164183 ]\n",
            "  [0.59693742]]]\n",
            "*************\n",
            "-------------------\n",
            "[[0.75329256]]\n",
            "[0.75329256]\n",
            "-------------------\n",
            "*************\n",
            "[[[0.83894231]\n",
            "  [1.        ]\n",
            "  [0.94711538]\n",
            "  [0.85336538]\n",
            "  [0.75480769]\n",
            "  [0.62980769]\n",
            "  [0.62259615]\n",
            "  [0.52884615]\n",
            "  [0.625     ]\n",
            "  [0.6164183 ]\n",
            "  [0.59693742]\n",
            "  [0.75329256]]]\n",
            "*************\n",
            "-------------------\n",
            "[[0.8196089]]\n",
            "[0.8196089]\n",
            "-------------------\n",
            "*************\n",
            "[[[1.        ]\n",
            "  [0.94711538]\n",
            "  [0.85336538]\n",
            "  [0.75480769]\n",
            "  [0.62980769]\n",
            "  [0.62259615]\n",
            "  [0.52884615]\n",
            "  [0.625     ]\n",
            "  [0.6164183 ]\n",
            "  [0.59693742]\n",
            "  [0.75329256]\n",
            "  [0.81960893]]]\n",
            "*************\n",
            "-------------------\n",
            "[[0.9095762]]\n",
            "[0.9095762]\n",
            "-------------------\n",
            "*************\n",
            "[[[0.94711538]\n",
            "  [0.85336538]\n",
            "  [0.75480769]\n",
            "  [0.62980769]\n",
            "  [0.62259615]\n",
            "  [0.52884615]\n",
            "  [0.625     ]\n",
            "  [0.6164183 ]\n",
            "  [0.59693742]\n",
            "  [0.75329256]\n",
            "  [0.81960893]\n",
            "  [0.90957618]]]\n",
            "*************\n",
            "-------------------\n",
            "[[0.88953155]]\n",
            "[0.88953155]\n",
            "-------------------\n",
            "*************\n",
            "[[[0.85336538]\n",
            "  [0.75480769]\n",
            "  [0.62980769]\n",
            "  [0.62259615]\n",
            "  [0.52884615]\n",
            "  [0.625     ]\n",
            "  [0.6164183 ]\n",
            "  [0.59693742]\n",
            "  [0.75329256]\n",
            "  [0.81960893]\n",
            "  [0.90957618]\n",
            "  [0.88953155]]]\n",
            "*************\n",
            "-------------------\n",
            "[[0.8210729]]\n",
            "[0.8210729]\n",
            "-------------------\n",
            "*************\n",
            "[[[0.75480769]\n",
            "  [0.62980769]\n",
            "  [0.62259615]\n",
            "  [0.52884615]\n",
            "  [0.625     ]\n",
            "  [0.6164183 ]\n",
            "  [0.59693742]\n",
            "  [0.75329256]\n",
            "  [0.81960893]\n",
            "  [0.90957618]\n",
            "  [0.88953155]\n",
            "  [0.82107288]]]\n",
            "*************\n",
            "-------------------\n",
            "[[0.73182535]]\n",
            "[0.73182535]\n",
            "-------------------\n",
            "*************\n",
            "[[[0.62980769]\n",
            "  [0.62259615]\n",
            "  [0.52884615]\n",
            "  [0.625     ]\n",
            "  [0.6164183 ]\n",
            "  [0.59693742]\n",
            "  [0.75329256]\n",
            "  [0.81960893]\n",
            "  [0.90957618]\n",
            "  [0.88953155]\n",
            "  [0.82107288]\n",
            "  [0.73182535]]]\n",
            "*************\n",
            "-------------------\n",
            "[[0.6289797]]\n",
            "[0.6289797]\n",
            "-------------------\n",
            "*************\n",
            "[[[0.62259615]\n",
            "  [0.52884615]\n",
            "  [0.625     ]\n",
            "  [0.6164183 ]\n",
            "  [0.59693742]\n",
            "  [0.75329256]\n",
            "  [0.81960893]\n",
            "  [0.90957618]\n",
            "  [0.88953155]\n",
            "  [0.82107288]\n",
            "  [0.73182535]\n",
            "  [0.62897968]]]\n",
            "*************\n",
            "-------------------\n",
            "[[0.5879188]]\n",
            "[0.5879188]\n",
            "-------------------\n",
            "*************\n",
            "[[[0.52884615]\n",
            "  [0.625     ]\n",
            "  [0.6164183 ]\n",
            "  [0.59693742]\n",
            "  [0.75329256]\n",
            "  [0.81960893]\n",
            "  [0.90957618]\n",
            "  [0.88953155]\n",
            "  [0.82107288]\n",
            "  [0.73182535]\n",
            "  [0.62897968]\n",
            "  [0.58791882]]]\n",
            "*************\n",
            "-------------------\n",
            "[[0.54308325]]\n",
            "[0.54308325]\n",
            "-------------------\n",
            "*************\n",
            "[[[0.625     ]\n",
            "  [0.6164183 ]\n",
            "  [0.59693742]\n",
            "  [0.75329256]\n",
            "  [0.81960893]\n",
            "  [0.90957618]\n",
            "  [0.88953155]\n",
            "  [0.82107288]\n",
            "  [0.73182535]\n",
            "  [0.62897968]\n",
            "  [0.58791882]\n",
            "  [0.54308325]]]\n",
            "*************\n",
            "-------------------\n",
            "[[0.57277393]]\n",
            "[0.57277393]\n",
            "-------------------\n",
            "*************\n",
            "[[[0.6164183 ]\n",
            "  [0.59693742]\n",
            "  [0.75329256]\n",
            "  [0.81960893]\n",
            "  [0.90957618]\n",
            "  [0.88953155]\n",
            "  [0.82107288]\n",
            "  [0.73182535]\n",
            "  [0.62897968]\n",
            "  [0.58791882]\n",
            "  [0.54308325]\n",
            "  [0.57277393]]]\n",
            "*************\n",
            "-------------------\n",
            "[[0.58558476]]\n",
            "[0.58558476]\n",
            "-------------------\n",
            "*************\n",
            "[[[0.59693742]\n",
            "  [0.75329256]\n",
            "  [0.81960893]\n",
            "  [0.90957618]\n",
            "  [0.88953155]\n",
            "  [0.82107288]\n",
            "  [0.73182535]\n",
            "  [0.62897968]\n",
            "  [0.58791882]\n",
            "  [0.54308325]\n",
            "  [0.57277393]\n",
            "  [0.58558476]]]\n",
            "*************\n",
            "-------------------\n",
            "[[0.6060874]]\n",
            "[0.6060874]\n",
            "-------------------\n",
            "*************\n",
            "[[[0.75329256]\n",
            "  [0.81960893]\n",
            "  [0.90957618]\n",
            "  [0.88953155]\n",
            "  [0.82107288]\n",
            "  [0.73182535]\n",
            "  [0.62897968]\n",
            "  [0.58791882]\n",
            "  [0.54308325]\n",
            "  [0.57277393]\n",
            "  [0.58558476]\n",
            "  [0.60608739]]]\n",
            "*************\n",
            "-------------------\n",
            "[[0.7196796]]\n",
            "[0.7196796]\n",
            "-------------------\n",
            "*************\n",
            "[[[0.81960893]\n",
            "  [0.90957618]\n",
            "  [0.88953155]\n",
            "  [0.82107288]\n",
            "  [0.73182535]\n",
            "  [0.62897968]\n",
            "  [0.58791882]\n",
            "  [0.54308325]\n",
            "  [0.57277393]\n",
            "  [0.58558476]\n",
            "  [0.60608739]\n",
            "  [0.71967959]]]\n",
            "*************\n",
            "-------------------\n",
            "[[0.79019356]]\n",
            "[0.79019356]\n",
            "-------------------\n",
            "*************\n",
            "[[[0.90957618]\n",
            "  [0.88953155]\n",
            "  [0.82107288]\n",
            "  [0.73182535]\n",
            "  [0.62897968]\n",
            "  [0.58791882]\n",
            "  [0.54308325]\n",
            "  [0.57277393]\n",
            "  [0.58558476]\n",
            "  [0.60608739]\n",
            "  [0.71967959]\n",
            "  [0.79019356]]]\n",
            "*************\n",
            "-------------------\n",
            "[[0.8507439]]\n",
            "[0.8507439]\n",
            "-------------------\n",
            "*************\n",
            "[[[0.88953155]\n",
            "  [0.82107288]\n",
            "  [0.73182535]\n",
            "  [0.62897968]\n",
            "  [0.58791882]\n",
            "  [0.54308325]\n",
            "  [0.57277393]\n",
            "  [0.58558476]\n",
            "  [0.60608739]\n",
            "  [0.71967959]\n",
            "  [0.79019356]\n",
            "  [0.85074389]]]\n",
            "*************\n",
            "-------------------\n",
            "[[0.8438759]]\n",
            "[0.8438759]\n",
            "-------------------\n",
            "*************\n",
            "[[[0.82107288]\n",
            "  [0.73182535]\n",
            "  [0.62897968]\n",
            "  [0.58791882]\n",
            "  [0.54308325]\n",
            "  [0.57277393]\n",
            "  [0.58558476]\n",
            "  [0.60608739]\n",
            "  [0.71967959]\n",
            "  [0.79019356]\n",
            "  [0.85074389]\n",
            "  [0.84387589]]]\n",
            "*************\n",
            "-------------------\n",
            "[[0.7910983]]\n",
            "[0.7910983]\n",
            "-------------------\n",
            "*************\n",
            "[[[0.73182535]\n",
            "  [0.62897968]\n",
            "  [0.58791882]\n",
            "  [0.54308325]\n",
            "  [0.57277393]\n",
            "  [0.58558476]\n",
            "  [0.60608739]\n",
            "  [0.71967959]\n",
            "  [0.79019356]\n",
            "  [0.85074389]\n",
            "  [0.84387589]\n",
            "  [0.7910983 ]]]\n",
            "*************\n",
            "-------------------\n",
            "[[0.7115565]]\n",
            "[0.7115565]\n",
            "-------------------\n",
            "*************\n",
            "[[[0.62897968]\n",
            "  [0.58791882]\n",
            "  [0.54308325]\n",
            "  [0.57277393]\n",
            "  [0.58558476]\n",
            "  [0.60608739]\n",
            "  [0.71967959]\n",
            "  [0.79019356]\n",
            "  [0.85074389]\n",
            "  [0.84387589]\n",
            "  [0.7910983 ]\n",
            "  [0.71155649]]]\n",
            "*************\n",
            "-------------------\n",
            "[[0.6197692]]\n",
            "[0.6197692]\n",
            "-------------------\n",
            "*************\n",
            "[[[0.58791882]\n",
            "  [0.54308325]\n",
            "  [0.57277393]\n",
            "  [0.58558476]\n",
            "  [0.60608739]\n",
            "  [0.71967959]\n",
            "  [0.79019356]\n",
            "  [0.85074389]\n",
            "  [0.84387589]\n",
            "  [0.7910983 ]\n",
            "  [0.71155649]\n",
            "  [0.61976922]]]\n",
            "*************\n",
            "-------------------\n",
            "[[0.56807595]]\n",
            "[0.56807595]\n",
            "-------------------\n",
            "*************\n",
            "[[[0.54308325]\n",
            "  [0.57277393]\n",
            "  [0.58558476]\n",
            "  [0.60608739]\n",
            "  [0.71967959]\n",
            "  [0.79019356]\n",
            "  [0.85074389]\n",
            "  [0.84387589]\n",
            "  [0.7910983 ]\n",
            "  [0.71155649]\n",
            "  [0.61976922]\n",
            "  [0.56807595]]]\n",
            "*************\n",
            "-------------------\n",
            "[[0.5372667]]\n",
            "[0.5372667]\n",
            "-------------------\n",
            "*************\n",
            "[[[0.57277393]\n",
            "  [0.58558476]\n",
            "  [0.60608739]\n",
            "  [0.71967959]\n",
            "  [0.79019356]\n",
            "  [0.85074389]\n",
            "  [0.84387589]\n",
            "  [0.7910983 ]\n",
            "  [0.71155649]\n",
            "  [0.61976922]\n",
            "  [0.56807595]\n",
            "  [0.53726667]]]\n",
            "*************\n",
            "-------------------\n",
            "[[0.5455123]]\n",
            "[0.5455123]\n",
            "-------------------\n",
            "*************\n",
            "[[[0.58558476]\n",
            "  [0.60608739]\n",
            "  [0.71967959]\n",
            "  [0.79019356]\n",
            "  [0.85074389]\n",
            "  [0.84387589]\n",
            "  [0.7910983 ]\n",
            "  [0.71155649]\n",
            "  [0.61976922]\n",
            "  [0.56807595]\n",
            "  [0.53726667]\n",
            "  [0.54551232]]]\n",
            "*************\n",
            "-------------------\n",
            "[[0.5637764]]\n",
            "[0.5637764]\n",
            "-------------------\n",
            "*************\n",
            "[[[0.60608739]\n",
            "  [0.71967959]\n",
            "  [0.79019356]\n",
            "  [0.85074389]\n",
            "  [0.84387589]\n",
            "  [0.7910983 ]\n",
            "  [0.71155649]\n",
            "  [0.61976922]\n",
            "  [0.56807595]\n",
            "  [0.53726667]\n",
            "  [0.54551232]\n",
            "  [0.56377637]]]\n",
            "*************\n",
            "-------------------\n",
            "[[0.5987355]]\n",
            "[0.5987355]\n",
            "-------------------\n",
            "*************\n",
            "[[[0.71967959]\n",
            "  [0.79019356]\n",
            "  [0.85074389]\n",
            "  [0.84387589]\n",
            "  [0.7910983 ]\n",
            "  [0.71155649]\n",
            "  [0.61976922]\n",
            "  [0.56807595]\n",
            "  [0.53726667]\n",
            "  [0.54551232]\n",
            "  [0.56377637]\n",
            "  [0.59873551]]]\n",
            "*************\n",
            "-------------------\n",
            "[[0.6898981]]\n",
            "[0.6898981]\n",
            "-------------------\n",
            "*************\n",
            "[[[0.79019356]\n",
            "  [0.85074389]\n",
            "  [0.84387589]\n",
            "  [0.7910983 ]\n",
            "  [0.71155649]\n",
            "  [0.61976922]\n",
            "  [0.56807595]\n",
            "  [0.53726667]\n",
            "  [0.54551232]\n",
            "  [0.56377637]\n",
            "  [0.59873551]\n",
            "  [0.68989807]]]\n",
            "*************\n",
            "-------------------\n",
            "[[0.76107174]]\n",
            "[0.76107174]\n",
            "-------------------\n",
            "*************\n",
            "[[[0.85074389]\n",
            "  [0.84387589]\n",
            "  [0.7910983 ]\n",
            "  [0.71155649]\n",
            "  [0.61976922]\n",
            "  [0.56807595]\n",
            "  [0.53726667]\n",
            "  [0.54551232]\n",
            "  [0.56377637]\n",
            "  [0.59873551]\n",
            "  [0.68989807]\n",
            "  [0.76107174]]]\n",
            "*************\n",
            "-------------------\n",
            "[[0.808558]]\n",
            "[0.808558]\n",
            "-------------------\n",
            "*************\n",
            "[[[0.84387589]\n",
            "  [0.7910983 ]\n",
            "  [0.71155649]\n",
            "  [0.61976922]\n",
            "  [0.56807595]\n",
            "  [0.53726667]\n",
            "  [0.54551232]\n",
            "  [0.56377637]\n",
            "  [0.59873551]\n",
            "  [0.68989807]\n",
            "  [0.76107174]\n",
            "  [0.80855799]]]\n",
            "*************\n",
            "-------------------\n",
            "[[0.80784047]]\n",
            "[0.80784047]\n",
            "-------------------\n",
            "*************\n",
            "[[[0.7910983 ]\n",
            "  [0.71155649]\n",
            "  [0.61976922]\n",
            "  [0.56807595]\n",
            "  [0.53726667]\n",
            "  [0.54551232]\n",
            "  [0.56377637]\n",
            "  [0.59873551]\n",
            "  [0.68989807]\n",
            "  [0.76107174]\n",
            "  [0.80855799]\n",
            "  [0.80784047]]]\n",
            "*************\n"
          ]
        }
      ]
    }
  ]
}